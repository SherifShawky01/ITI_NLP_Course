{
  "cells": [
    {
      "cell_type": "code",
      "source": [
        "!python -m spacy init fill-config base_config.cfg config.cfg"
      ],
      "metadata": {
        "id": "qXt42Z0S-_b6"
      },
      "execution_count": null,
      "outputs": []
    },
    {
      "cell_type": "code",
      "source": [
        "from sklearn.model_selection import train_test_split\n",
        "import spacy\n",
        "from spacy.tokens import DocBin\n",
        "import json\n",
        "\n",
        "nlp = spacy.blank(\"en\")\n",
        "doc_bin_train = DocBin()\n",
        "doc_bin_dev = DocBin()\n",
        "\n",
        "with open(\"ner_data.jsonl\", \"r\", encoding=\"utf8\") as f:\n",
        "    examples = [json.loads(line) for line in f]\n",
        "\n",
        "train_data, dev_data = train_test_split(examples, test_size=0.2, random_state=42)\n",
        "\n",
        "def convert_to_docbin(data, nlp):\n",
        "    db = DocBin()\n",
        "    for example in data:\n",
        "        doc = nlp.make_doc(example[\"text\"])\n",
        "        ents = []\n",
        "        for start, end, label in example[\"entities\"]:\n",
        "            span = doc.char_span(start, end, label=label)\n",
        "            if span:\n",
        "                ents.append(span)\n",
        "        doc.ents = ents\n",
        "        db.add(doc)\n",
        "    return db\n",
        "\n",
        "convert_to_docbin(train_data, nlp).to_disk(\"train.spacy\")\n",
        "convert_to_docbin(dev_data, nlp).to_disk(\"dev.spacy\")\n",
        "\n",
        "print(\"✅ train.spacy and dev.spacy created.\")"
      ],
      "metadata": {
        "id": "jU-pbmhd-_lJ"
      },
      "execution_count": null,
      "outputs": []
    },
    {
      "cell_type": "code",
      "source": [
        "!python -m spacy train config.cfg --output ./output --paths.train ./train.spacy --paths.dev ./dev.spacy --gpu-id 0"
      ],
      "metadata": {
        "id": "7hBXLK1x6K4K",
        "outputId": "fc68f71f-2130-4eb5-8c68-0b2d140f44b9",
        "colab": {
          "base_uri": "https://localhost:8080/"
        }
      },
      "execution_count": null,
      "outputs": [
        {
          "output_type": "stream",
          "name": "stdout",
          "text": [
            "\u001b[38;5;4mℹ Saving to output directory: output\u001b[0m\n",
            "\u001b[38;5;4mℹ Using GPU: 0\u001b[0m\n",
            "\u001b[1m\n",
            "=========================== Initializing pipeline ===========================\u001b[0m\n",
            "\u001b[38;5;2m✔ Initialized pipeline\u001b[0m\n",
            "\u001b[1m\n",
            "============================= Training pipeline =============================\u001b[0m\n",
            "\u001b[38;5;4mℹ Pipeline: ['tok2vec', 'ner']\u001b[0m\n",
            "\u001b[38;5;4mℹ Initial learn rate: 0.001\u001b[0m\n",
            "E    #       LOSS TOK2VEC  LOSS NER  ENTS_F  ENTS_P  ENTS_R  SCORE \n",
            "---  ------  ------------  --------  ------  ------  ------  ------\n",
            "  0       0          0.00     50.79    0.00    0.00    0.00    0.00\n",
            "  0     200        350.77   3015.12   56.66   58.81   54.66    0.57\n",
            "  0     400        203.65   2115.60   68.99   71.95   66.26    0.69\n",
            "  0     600        220.82   1969.16   74.00   75.15   72.89    0.74\n",
            "  0     800        294.96   2209.38   75.17   78.26   72.31    0.75\n",
            "  0    1000        350.64   2566.09   76.39   77.50   75.30    0.76\n",
            "  0    1200        387.80   3005.93   78.17   79.23   77.14    0.78\n",
            "  0    1400        521.67   3489.79   79.38   80.27   78.51    0.79\n",
            "  0    1600        565.86   4052.01   79.98   80.27   79.69    0.80\n",
            "  0    1800        698.55   4787.50   80.18   80.48   79.88    0.80\n",
            "  0    2000        892.73   5568.03   81.40   82.75   80.09    0.81\n",
            "  0    2200       2108.84   6725.09   82.12   83.27   81.00    0.82\n",
            "  1    2400       1189.05   7265.75   82.26   83.80   80.77    0.82\n",
            "  1    2600       1219.69   7022.43   82.50   83.82   81.22    0.83\n",
            "  1    2800       1194.16   6964.41   83.35   84.43   82.30    0.83\n",
            "  1    3000       1395.24   7215.36   83.09   83.99   82.22    0.83\n",
            "  2    3200       1288.95   6791.25   82.15   82.60   81.70    0.82\n",
            "  2    3400       1395.74   6442.76   83.76   84.50   83.04    0.84\n",
            "  2    3600       1331.21   6356.42   83.39   84.53   82.28    0.83\n",
            "  2    3800       1302.25   6275.47   83.82   84.41   83.23    0.84\n",
            "  2    4000       1314.99   6320.93   84.04   84.98   83.12    0.84\n",
            "  3    4200       1930.65   5952.01   83.67   83.85   83.49    0.84\n",
            "  3    4400       1550.50   5916.19   83.84   85.12   82.59    0.84\n",
            "  3    4600       1517.79   5893.68   83.62   84.96   82.31    0.84\n",
            "  3    4800       1455.54   5918.60   84.31   84.90   83.72    0.84\n",
            "  4    5000       1506.01   5415.59   84.13   84.24   84.02    0.84\n",
            "  4    5200       1584.22   5439.60   84.44   85.33   83.56    0.84\n",
            "  4    5400       1937.41   5544.56   84.05   84.84   83.27    0.84\n"
          ]
        }
      ]
    },
    {
      "cell_type": "code",
      "source": [
        "import spacy\n",
        "nlp_trained = spacy.load(\"./output/model-best\")"
      ],
      "metadata": {
        "id": "t5l815VBRnWP"
      },
      "execution_count": null,
      "outputs": []
    },
    {
      "cell_type": "code",
      "source": [
        "text = \"Steve Jobs founded Apple in California.\"\n",
        "doc = nlp_trained(text)\n",
        "\n",
        "\n",
        "for ent in doc.ents:\n",
        "    print(ent.text, ent.label_)\n"
      ],
      "metadata": {
        "id": "-lw7VFQWRnYy",
        "outputId": "19bfb3fe-8140-4bff-c44a-05cd0fcb261b",
        "colab": {
          "base_uri": "https://localhost:8080/"
        }
      },
      "execution_count": null,
      "outputs": [
        {
          "output_type": "stream",
          "name": "stdout",
          "text": [
            "Steve Jobs per\n",
            "Apple org\n",
            "California geo\n"
          ]
        }
      ]
    },
    {
      "cell_type": "markdown",
      "metadata": {
        "id": "vwnNlNIEwoZ8"
      },
      "source": [
        "To learn more about accelerating pandas on Colab, see the [10 minute guide](https://colab.research.google.com/github/rapidsai-community/showcase/blob/main/getting_started_tutorials/cudf_pandas_colab_demo.ipynb) or\n",
        " [US stock market data analysis demo](https://colab.research.google.com/github/rapidsai-community/showcase/blob/main/getting_started_tutorials/cudf_pandas_stocks_demo.ipynb)."
      ]
    }
  ],
  "metadata": {
    "colab": {
      "provenance": [],
      "gpuType": "T4"
    },
    "kernelspec": {
      "display_name": "Python 3",
      "name": "python3"
    },
    "accelerator": "GPU"
  },
  "nbformat": 4,
  "nbformat_minor": 0
}
