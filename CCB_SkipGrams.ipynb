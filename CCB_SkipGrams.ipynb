{
 "cells": [
  {
   "cell_type": "code",
   "execution_count": 2,
   "id": "5c43ffd4",
   "metadata": {},
   "outputs": [
    {
     "name": "stdout",
     "output_type": "stream",
     "text": [
      "[==================================================] 100.0% 128.1/128.1MB downloaded\n"
     ]
    }
   ],
   "source": [
    "import numpy\n",
    "import gensim.downloader as api\n",
    "model = api.load(\"glove-wiki-gigaword-100\")"
   ]
  },
  {
   "cell_type": "code",
   "execution_count": null,
   "id": "cf13ddc1",
   "metadata": {},
   "outputs": [],
   "source": [
    "!pip install gensim"
   ]
  },
  {
   "cell_type": "code",
   "execution_count": 3,
   "id": "311b207c",
   "metadata": {},
   "outputs": [
    {
     "data": {
      "text/plain": [
       "[('prince', 0.7682328820228577),\n",
       " ('queen', 0.7507690787315369),\n",
       " ('son', 0.7020887136459351),\n",
       " ('brother', 0.6985775828361511),\n",
       " ('monarch', 0.6977891325950623),\n",
       " ('throne', 0.691999077796936),\n",
       " ('kingdom', 0.6811409592628479),\n",
       " ('father', 0.680202841758728),\n",
       " ('emperor', 0.6712858080863953),\n",
       " ('ii', 0.6676074862480164)]"
      ]
     },
     "execution_count": 3,
     "metadata": {},
     "output_type": "execute_result"
    }
   ],
   "source": [
    "model.most_similar('king')"
   ]
  },
  {
   "cell_type": "code",
   "execution_count": null,
   "id": "4ecc075b",
   "metadata": {},
   "outputs": [
    {
     "data": {
      "text/plain": [
       "array([-0.05280992, -0.14321956,  0.03592421,  0.04130378,  0.03755721,\n",
       "        0.1207663 , -0.06204066, -0.0577138 , -0.13791192, -0.1816562 ,\n",
       "       -0.04947364,  0.05423368, -0.04105041,  0.04977114, -0.0126669 ,\n",
       "       -0.14681411,  0.01511965, -0.186462  , -0.09533803,  0.10930593,\n",
       "       -0.03779587, -0.15668724,  0.04619785, -0.01288871,  0.12311199,\n",
       "        0.04345495,  0.05593697, -0.05549398,  0.1562835 ,  0.01072986,\n",
       "        0.07477932,  0.0651154 ,  0.0947512 ,  0.06418693, -0.03571825,\n",
       "        0.09610794, -0.09153752,  0.1035831 , -0.00718958, -0.1123496 ,\n",
       "       -0.06185595,  0.06215836,  0.10076009, -0.14428696, -0.02018112,\n",
       "       -0.06199817, -0.06263567,  0.0390153 ,  0.10927487, -0.07081371,\n",
       "       -0.01808716,  0.01335867,  0.1891101 ,  0.12906694, -0.03469171,\n",
       "       -0.37941346, -0.11083757,  0.07284065,  0.10740649,  0.01708186,\n",
       "        0.0755476 ,  0.03254871,  0.04217667,  0.00934909,  0.08735942,\n",
       "       -0.0705064 , -0.05608571,  0.09773277, -0.09549005,  0.01127811,\n",
       "        0.03913953, -0.13923924,  0.04965836, -0.05586667, -0.04208513,\n",
       "       -0.00508386, -0.02661991,  0.0738345 , -0.14977604,  0.10546783,\n",
       "        0.11978716, -0.03719105,  0.04940826,  0.0073233 , -0.13688536,\n",
       "        0.08991434, -0.08582777, -0.28372237,  0.07766117, -0.11522001,\n",
       "        0.00930741, -0.11658166,  0.01465002,  0.06766379, -0.21843532,\n",
       "       -0.10120798, -0.0540882 , -0.08644076,  0.02694357, -0.16162874],\n",
       "      dtype=float32)"
      ]
     },
     "execution_count": 5,
     "metadata": {},
     "output_type": "execute_result"
    }
   ],
   "source": [
    "model.get_mean_vector(['king', 'man', 'woman', 'queen','boy'])"
   ]
  },
  {
   "cell_type": "code",
   "execution_count": null,
   "id": "757178da",
   "metadata": {},
   "outputs": [
    {
     "name": "stdout",
     "output_type": "stream",
     "text": [
      "('boy', 0.7940161228179932)\n",
      "[('prince', 0.7682328820228577), ('queen', 0.7507690787315369), ('son', 0.7020887136459351), ('brother', 0.6985775828361511), ('monarch', 0.6977891325950623)]\n"
     ]
    }
   ],
   "source": [
    "def CBW(*words):\n",
    "    newVec=model.get_mean_vector(words)\n",
    "    i=1\n",
    "    while(1):\n",
    "        similar = model.similar_by_vector(newVec, topn=i)\n",
    "        if similar[i-1][0] in words:\n",
    "            i+=1\n",
    "        else:\n",
    "            break\n",
    "\n",
    "    return similar[-1]\n",
    "\n",
    "print(CBW('king','man','woman','horse'))\n",
    "\n",
    "\n",
    "def skipgram(word,n=5):\n",
    "    sim=model.most_similar(word,topn=n)\n",
    "    return sim\n",
    "print(skipgram('king',5))\n",
    " \n"
   ]
  }
 ],
 "metadata": {
  "kernelspec": {
   "display_name": "Python 3",
   "language": "python",
   "name": "python3"
  },
  "language_info": {
   "codemirror_mode": {
    "name": "ipython",
    "version": 3
   },
   "file_extension": ".py",
   "mimetype": "text/x-python",
   "name": "python",
   "nbconvert_exporter": "python",
   "pygments_lexer": "ipython3",
   "version": "3.12.7"
  }
 },
 "nbformat": 4,
 "nbformat_minor": 5
}
