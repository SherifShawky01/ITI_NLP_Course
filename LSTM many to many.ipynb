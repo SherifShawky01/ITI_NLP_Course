{
 "cells": [
  {
   "cell_type": "markdown",
   "id": "9d7644b2",
   "metadata": {},
   "source": [
    "## LSTM"
   ]
  },
  {
   "cell_type": "markdown",
   "id": "5d4d05e0",
   "metadata": {},
   "source": [
    "1. choose a dataset\n",
    "2. download and check the shape of the dataset\n",
    "4. clean the data if needed (hint: regex)\n",
    "5. decide the tokenization strategy (word , character , sub character)\n",
    "6. build the vocab\n",
    "7. build a wrapper around the dataset\n",
    "8. dataloader -> train[0] (input,label)\n",
    "9. Build network architecture\n",
    "10. Training loop\n",
    "11. evaluate\n"
   ]
  },
  {
   "cell_type": "code",
   "execution_count": null,
   "id": "94398a55",
   "metadata": {},
   "outputs": [
    {
     "name": "stdout",
     "output_type": "stream",
     "text": [
      "Libraries imported successfully!\n",
      "Using device: cuda\n"
     ]
    }
   ],
   "source": [
    "import torch\n",
    "import torch.nn as nn\n",
    "import torch.optim as optim\n",
    "from torch.utils.data import Dataset, DataLoader, random_split\n",
    "from sklearn.model_selection import train_test_split\n",
    "import numpy as np\n",
    "import matplotlib.pyplot as plt\n",
    "from tqdm.autonotebook import tqdm\n",
    "from collections import Counter\n",
    "import re\n",
    "\n",
    "import nltk\n",
    "\n",
    "from datasets import load_dataset\n",
    "\n",
    "torch.manual_seed(42)\n",
    "np.random.seed(42)\n",
    "\n",
    "print(\"Libraries imported successfully!\")\n",
    "device = torch.device('cuda' if torch.cuda.is_available() else 'cpu')\n",
    "print(f\"Using device: {device}\")"
   ]
  },
  {
   "cell_type": "code",
   "execution_count": 37,
   "id": "3d372c22",
   "metadata": {},
   "outputs": [
    {
     "data": {
      "application/vnd.jupyter.widget-view+json": {
       "model_id": "7e02c5b01cea48559e6e363cfd2913e7",
       "version_major": 2,
       "version_minor": 0
      },
      "text/plain": [
       "Downloading data:   0%|          | 0.00/134k [00:00<?, ?B/s]"
      ]
     },
     "metadata": {},
     "output_type": "display_data"
    },
    {
     "data": {
      "application/vnd.jupyter.widget-view+json": {
       "model_id": "76d73073601b413cb68621cb8b3a9720",
       "version_major": 2,
       "version_minor": 0
      },
      "text/plain": [
       "Downloading data:   0%|          | 0.00/17.6k [00:00<?, ?B/s]"
      ]
     },
     "metadata": {},
     "output_type": "display_data"
    },
    {
     "data": {
      "application/vnd.jupyter.widget-view+json": {
       "model_id": "e16bcc0b0378416d8d6e1edff6040e78",
       "version_major": 2,
       "version_minor": 0
      },
      "text/plain": [
       "Downloading data:   0%|          | 0.00/37.4k [00:00<?, ?B/s]"
      ]
     },
     "metadata": {},
     "output_type": "display_data"
    },
    {
     "data": {
      "application/vnd.jupyter.widget-view+json": {
       "model_id": "7f0deda0f7fe47a0ab41fd68e85ed331",
       "version_major": 2,
       "version_minor": 0
      },
      "text/plain": [
       "Generating train split:   0%|          | 0/2109 [00:00<?, ? examples/s]"
      ]
     },
     "metadata": {},
     "output_type": "display_data"
    },
    {
     "data": {
      "application/vnd.jupyter.widget-view+json": {
       "model_id": "f1679f6fb5434656a445429d5c349b5a",
       "version_major": 2,
       "version_minor": 0
      },
      "text/plain": [
       "Generating validation split:   0%|          | 0/300 [00:00<?, ? examples/s]"
      ]
     },
     "metadata": {},
     "output_type": "display_data"
    },
    {
     "data": {
      "application/vnd.jupyter.widget-view+json": {
       "model_id": "f9ee62669f374cc1b69220912e80734d",
       "version_major": 2,
       "version_minor": 0
      },
      "text/plain": [
       "Generating test split:   0%|          | 0/604 [00:00<?, ? examples/s]"
      ]
     },
     "metadata": {},
     "output_type": "display_data"
    },
    {
     "name": "stdout",
     "output_type": "stream",
     "text": [
      "Successfully loaded masakhane/masakhaner dataset.\n",
      "Dataset loaded! Training examples: 2109\n",
      "Sample tokens: ['Wizara', 'ya', 'afya', 'ya', 'Tanzania', 'imeripoti', 'Jumatatu', 'kuwa', ',', 'watu', 'takriban', '14', 'zaidi', 'wamepata', 'maambukizi', 'ya', 'Covid', '-', '19', '.']\n",
      "Sample NER tags: [3, 4, 4, 4, 4, 0, 7, 0, 0, 0, 0, 0, 0, 0, 0, 0, 0, 0, 0, 0]\n",
      "Tag names from dataset features: ['O', 'B-PER', 'I-PER', 'B-ORG', 'I-ORG', 'B-LOC', 'I-LOC', 'B-DATE', 'I-DATE']\n",
      "Number of unique NER tags (output_dim): 9\n",
      "Tag mapping: {'O': 0, 'B-PER': 1, 'I-PER': 2, 'B-ORG': 3, 'I-ORG': 4, 'B-LOC': 5, 'I-LOC': 6, 'B-DATE': 7, 'I-DATE': 8}\n",
      "idx_to_tag mapping: {0: 'O', 1: 'B-PER', 2: 'I-PER', 3: 'B-ORG', 4: 'I-ORG', 5: 'B-LOC', 6: 'I-LOC', 7: 'B-DATE', 8: 'I-DATE'}\n"
     ]
    }
   ],
   "source": [
    "# Load the MasakhaNER dataset (Swahili portion as an example)\n",
    "try:\n",
    "    # MODIFICATION: Added trust_remote_code=True\n",
    "    dataset = load_dataset(\"masakhane/masakhaner\", \"swa\", trust_remote_code=True)\n",
    "    print(\"Successfully loaded masakhane/masakhaner dataset.\")\n",
    "\n",
    "except Exception as e:\n",
    "    print(f\"Failed to load dataset directly. Error: {e}\")\n",
    "    print(\"Please ensure you have internet access and the 'datasets' library is up to date.\")\n",
    "    print(\"If issues persist, the dataset might require manual download or specific permissions.\")\n",
    "    # As a fallback for structure, creating a tiny dummy dataset if loading fails\n",
    "    # This dummy dataset is NOT for actual training but to allow subsequent cells to run.\n",
    "    dummy_data = {\n",
    "        'train': [{'id': str(i), 'tokens': ['Huyu', 'ni', 'mfano', '.'], 'ner_tags': [0,0,0,0]} for i in range(10)],\n",
    "        'validation': [{'id': str(i), 'tokens': ['Jaribio', 'la', 'pili', '.'], 'ner_tags': [0,0,0,0]} for i in range(5)],\n",
    "        'test': [{'id': str(i), 'tokens': ['Mfumo', 'wa', 'tatu', '.'], 'ner_tags': [0,0,0,0]} for i in range(5)]\n",
    "    }\n",
    "    from datasets import DatasetDict, Dataset as HFDataset\n",
    "    \n",
    "    dummy_tag_names = ['O', 'B-PER', 'I-PER', 'B-ORG', 'I-ORG', 'B-LOC', 'I-LOC', 'B-DATE', 'I-DATE']\n",
    "\n",
    "    train_ds = HFDataset.from_dict({k: [d[k] for d in dummy_data['train']] for k in dummy_data['train'][0]})\n",
    "    val_ds = HFDataset.from_dict({k: [d[k] for d in dummy_data['validation']] for k in dummy_data['validation'][0]})\n",
    "    test_ds = HFDataset.from_dict({k: [d[k] for d in dummy_data['test']] for k in dummy_data['test'][0]})\n",
    "    \n",
    "    dataset = DatasetDict({'train': train_ds, 'validation': val_ds, 'test': test_ds})\n",
    "    print(\"Loaded a tiny DUMMY dataset as a fallback.\")\n",
    "\n",
    "\n",
    "train_data = dataset[\"train\"]\n",
    "val_data = dataset[\"validation\"] # masakhaner has a validation set\n",
    "test_data = dataset[\"test\"]\n",
    "\n",
    "print(f\"Dataset loaded! Training examples: {len(train_data)}\")\n",
    "if len(train_data) > 10: # Check if real dataset was loaded\n",
    "    print(f\"Sample tokens: {train_data[0]['tokens']}\")\n",
    "    print(f\"Sample NER tags: {train_data[0]['ner_tags']}\")\n",
    "else: # Dummy data was loaded\n",
    "    print(\"Displaying sample from DUMMY data:\")\n",
    "    print(f\"Sample tokens: {train_data[0]['tokens']}\")\n",
    "    print(f\"Sample NER tags: {train_data[0]['ner_tags']}\")\n",
    "\n",
    "\n",
    "# NER Tags for masakhaner: 0: O, 1: B-PER, 2: I-PER, 3: B-ORG, 4: I-ORG, 5: B-LOC, 6: I-LOC, 7: B-DATE, 8: I-DATE\n",
    "# We need to create our tag_vocab based on these.\n",
    "# The dataset provides numeric tags directly. Let's find the number of unique tags.\n",
    "all_ner_tags_numeric = [tag for ex in train_data for tag in ex['ner_tags']]\n",
    "unique_numeric_tags = sorted(list(set(all_ner_tags_numeric)))\n",
    "num_ner_tags = len(unique_numeric_tags)\n",
    "\n",
    "try:\n",
    "    tag_names = train_data.features['ner_tags'].feature.names\n",
    "    print(f\"Tag names from dataset features: {tag_names}\")\n",
    "except AttributeError:\n",
    "    print(\"Could not infer tag names from dataset features. Using a predefined list for MasakhaNER.\")\n",
    "    tag_names = ['O', 'B-PER', 'I-PER', 'B-ORG', 'I-ORG', 'B-LOC', 'I-LOC', 'B-DATE', 'I-DATE']\n",
    "    # Ensure the dummy data aligns with this if it was loaded\n",
    "    if len(train_data) <= 10 and len(unique_numeric_tags) <=1: # If dummy was loaded and has only '0'\n",
    "        print(\"Correcting num_ner_tags for dummy data based on predefined tag_names.\")\n",
    "        num_ner_tags = len(tag_names)\n",
    "\n",
    "\n",
    "tag_to_idx = {tag: i for i, tag in enumerate(tag_names)}\n",
    "idx_to_tag = {i: tag for i, tag in enumerate(tag_names)}\n",
    "\n",
    "# Check consistency if real dataset was loaded\n",
    "if len(train_data) > 10:\n",
    "    if num_ner_tags != len(tag_names):\n",
    "        print(f\"Warning: Number of unique tags found ({num_ner_tags}) differs from feature names length ({len(tag_names)}). Using feature names.\")\n",
    "    output_dim_many_to_many = len(tag_names)\n",
    "else: # If dummy dataset\n",
    "     output_dim_many_to_many = len(tag_names)\n",
    "\n",
    "\n",
    "PAD_TAG_IDX = 0 # We will use 'O' as the padding tag index. It is tag_names[0]\n",
    "print(f\"Number of unique NER tags (output_dim): {output_dim_many_to_many}\")\n",
    "print(f\"Tag mapping: {tag_to_idx}\")\n",
    "print(f\"idx_to_tag mapping: {idx_to_tag}\")"
   ]
  },
  {
   "cell_type": "code",
   "execution_count": 38,
   "id": "0bd4d377",
   "metadata": {},
   "outputs": [
    {
     "name": "stdout",
     "output_type": "stream",
     "text": [
      "Word vocabulary created with 9187 words.\n",
      "Sample words: [('ya', 2), (',', 3), ('na', 4), ('wa', 5), ('.', 6), ('kwa', 7), ('katika', 8), ('la', 9), ('za', 10), ('ni', 11)]\n",
      "Tag vocabulary size: 9\n",
      "PAD_IDX_WORD: 0, PAD_TAG_IDX used for labels: 0\n"
     ]
    }
   ],
   "source": [
    "# Extract tokens and tags\n",
    "train_tokens_list = [example['tokens'] for example in train_data]\n",
    "train_tags_list = [example['ner_tags'] for example in train_data]\n",
    "\n",
    "val_tokens_list = [example['tokens'] for example in val_data]\n",
    "val_tags_list = [example['ner_tags'] for example in val_data]\n",
    "\n",
    "test_tokens_list = [example['tokens'] for example in test_data]\n",
    "test_tags_list = [example['ner_tags'] for example in test_data]\n",
    "\n",
    "# Build word vocabulary\n",
    "word_counts = Counter()\n",
    "for sentence_tokens in train_tokens_list:\n",
    "    word_counts.update(sentence_tokens)\n",
    "\n",
    "# Define special tokens\n",
    "PAD_TOKEN = \"<PAD>\"\n",
    "UNK_TOKEN = \"<UNK>\"\n",
    "VOCAB_MAX_SIZE = 10000 # Or choose based on your data\n",
    "\n",
    "# Create word vocabulary\n",
    "most_common_words = word_counts.most_common(VOCAB_MAX_SIZE - 2) # -2 for PAD and UNK\n",
    "word_to_idx = {word: idx + 2 for idx, (word, _) in enumerate(most_common_words)}\n",
    "word_to_idx[PAD_TOKEN] = 0\n",
    "word_to_idx[UNK_TOKEN] = 1\n",
    "idx_to_word = {idx: word for word, idx in word_to_idx.items()}\n",
    "vocab_size = len(word_to_idx)\n",
    "PAD_IDX_WORD = word_to_idx[PAD_TOKEN]\n",
    "\n",
    "\n",
    "print(f\"Word vocabulary created with {vocab_size} words.\")\n",
    "print(f\"Sample words: {list(word_to_idx.items())[:10]}\")\n",
    "print(f\"Tag vocabulary size: {output_dim_many_to_many}\")\n",
    "print(f\"PAD_IDX_WORD: {PAD_IDX_WORD}, PAD_TAG_IDX used for labels: {PAD_TAG_IDX}\")"
   ]
  },
  {
   "cell_type": "code",
   "execution_count": 39,
   "id": "ccbf569e",
   "metadata": {},
   "outputs": [
    {
     "data": {
      "image/png": "[encoded data removed]",
      "text/plain": [
       "<Figure size 1000x600 with 1 Axes>"
      ]
     },
     "metadata": {},
     "output_type": "display_data"
    },
    {
     "name": "stdout",
     "output_type": "stream",
     "text": [
      "Chosen MAX_LEN based on 95th percentile: 49\n"
     ]
    },
    {
     "data": {
      "application/vnd.jupyter.widget-view+json": {
       "model_id": "fecd5bf9512b4af4ba371df9fb45f0e4",
       "version_major": 2,
       "version_minor": 0
      },
      "text/plain": [
       "Encoding train tokens:   0%|          | 0/2109 [00:00<?, ?it/s]"
      ]
     },
     "metadata": {},
     "output_type": "display_data"
    },
    {
     "data": {
      "application/vnd.jupyter.widget-view+json": {
       "model_id": "c58d37719d244938a39ca71d54ab4a97",
       "version_major": 2,
       "version_minor": 0
      },
      "text/plain": [
       "Encoding train tags:   0%|          | 0/2109 [00:00<?, ?it/s]"
      ]
     },
     "metadata": {},
     "output_type": "display_data"
    },
    {
     "data": {
      "application/vnd.jupyter.widget-view+json": {
       "model_id": "059c9152bef54dbf880a3a034e69190f",
       "version_major": 2,
       "version_minor": 0
      },
      "text/plain": [
       "Encoding val tokens:   0%|          | 0/300 [00:00<?, ?it/s]"
      ]
     },
     "metadata": {},
     "output_type": "display_data"
    },
    {
     "data": {
      "application/vnd.jupyter.widget-view+json": {
       "model_id": "bd5a26a0fee94fabb5877dd2b44703eb",
       "version_major": 2,
       "version_minor": 0
      },
      "text/plain": [
       "Encoding val tags:   0%|          | 0/300 [00:00<?, ?it/s]"
      ]
     },
     "metadata": {},
     "output_type": "display_data"
    },
    {
     "data": {
      "application/vnd.jupyter.widget-view+json": {
       "model_id": "04b7a2191d674e17b1c171af7572f48c",
       "version_major": 2,
       "version_minor": 0
      },
      "text/plain": [
       "Encoding test tokens:   0%|          | 0/604 [00:00<?, ?it/s]"
      ]
     },
     "metadata": {},
     "output_type": "display_data"
    },
    {
     "data": {
      "application/vnd.jupyter.widget-view+json": {
       "model_id": "cf58dfb53e5a4671be04d6994d8e460c",
       "version_major": 2,
       "version_minor": 0
      },
      "text/plain": [
       "Encoding test tags:   0%|          | 0/604 [00:00<?, ?it/s]"
      ]
     },
     "metadata": {},
     "output_type": "display_data"
    },
    {
     "name": "stdout",
     "output_type": "stream",
     "text": [
      "Data encoding complete! Example token sequence: tensor([ 357,    2,  115,    2,   65,  728,  148,   12,    3,   16,  310,  358,\n",
      "          36, 2517,   64])...\n",
      "Example tag sequence: tensor([3, 4, 4, 4, 4, 0, 7, 0, 0, 0, 0, 0, 0, 0, 0])...\n"
     ]
    }
   ],
   "source": [
    "# Analyze sequence lengths\n",
    "seq_lengths = [len(tokens) for tokens in train_tokens_list]\n",
    "plt.figure(figsize=(10, 6))\n",
    "plt.hist(seq_lengths, bins=50)\n",
    "plt.title(\"Distribution of Sequence Lengths (MasakhaNER 'swa' Train)\")\n",
    "plt.xlabel(\"Length (number of tokens)\")\n",
    "plt.ylabel(\"Count\")\n",
    "plt.grid(True, alpha=0.3)\n",
    "plt.show()\n",
    "\n",
    "MAX_LEN = int(np.percentile(seq_lengths, 95)) # Using 95th percentile\n",
    "print(f\"Chosen MAX_LEN based on 95th percentile: {MAX_LEN}\")\n",
    "\n",
    "def encode_tokens(tokens, word_to_idx, max_len):\n",
    "    encoded = [word_to_idx.get(token, word_to_idx[UNK_TOKEN]) for token in tokens[:max_len]]\n",
    "    padding_length = max_len - len(encoded)\n",
    "    encoded.extend([PAD_IDX_WORD] * padding_length)\n",
    "    return encoded\n",
    "\n",
    "def encode_tags(tags, max_len): # Tags are already integers from dataset\n",
    "    encoded = tags[:max_len]\n",
    "    padding_length = max_len - len(encoded)\n",
    "    encoded.extend([PAD_TAG_IDX] * padding_length) # Use PAD_TAG_IDX for padding labels\n",
    "    return encoded\n",
    "\n",
    "train_encoded_tokens = [encode_tokens(tokens, word_to_idx, MAX_LEN) for tokens in tqdm(train_tokens_list, desc=\"Encoding train tokens\")]\n",
    "train_encoded_tags = [encode_tags(tags, MAX_LEN) for tags in tqdm(train_tags_list, desc=\"Encoding train tags\")]\n",
    "\n",
    "val_encoded_tokens = [encode_tokens(tokens, word_to_idx, MAX_LEN) for tokens in tqdm(val_tokens_list, desc=\"Encoding val tokens\")]\n",
    "val_encoded_tags = [encode_tags(tags, MAX_LEN) for tags in tqdm(val_tags_list, desc=\"Encoding val tags\")]\n",
    "\n",
    "test_encoded_tokens = [encode_tokens(tokens, word_to_idx, MAX_LEN) for tokens in tqdm(test_tokens_list, desc=\"Encoding test tokens\")]\n",
    "test_encoded_tags = [encode_tags(tags, MAX_LEN) for tags in tqdm(test_tags_list, desc=\"Encoding test tags\")]\n",
    "\n",
    "# Convert to tensors\n",
    "train_sequences_tensor = torch.tensor(train_encoded_tokens, dtype=torch.long)\n",
    "train_labels_tensor = torch.tensor(train_encoded_tags, dtype=torch.long)\n",
    "\n",
    "val_sequences_tensor = torch.tensor(val_encoded_tokens, dtype=torch.long)\n",
    "val_labels_tensor = torch.tensor(val_encoded_tags, dtype=torch.long)\n",
    "\n",
    "test_sequences_tensor = torch.tensor(test_encoded_tokens, dtype=torch.long)\n",
    "test_labels_tensor = torch.tensor(test_encoded_tags, dtype=torch.long)\n",
    "\n",
    "print(f\"Data encoding complete! Example token sequence: {train_sequences_tensor[0][:15]}...\")\n",
    "print(f\"Example tag sequence: {train_labels_tensor[0][:15]}...\")"
   ]
  },
  {
   "cell_type": "code",
   "execution_count": 40,
   "id": "e576bec8",
   "metadata": {},
   "outputs": [
    {
     "name": "stdout",
     "output_type": "stream",
     "text": [
      "DataLoaders created! Training batches: 66\n"
     ]
    }
   ],
   "source": [
    "class NERDataset(Dataset):\n",
    "    def __init__(self, sequences, labels):\n",
    "        self.sequences = sequences\n",
    "        self.labels = labels\n",
    "    \n",
    "    def __len__(self):\n",
    "        return len(self.sequences)\n",
    "    \n",
    "    def __getitem__(self, idx):\n",
    "        return self.sequences[idx], self.labels[idx]\n",
    "\n",
    "train_dataset = NERDataset(train_sequences_tensor, train_labels_tensor)\n",
    "val_dataset = NERDataset(val_sequences_tensor, val_labels_tensor)\n",
    "test_dataset = NERDataset(test_sequences_tensor, test_labels_tensor)\n",
    "\n",
    "BATCH_SIZE = 32 # Reduced batch size for potentially larger model/data\n",
    "train_loader = DataLoader(train_dataset, batch_size=BATCH_SIZE, shuffle=True)\n",
    "val_loader = DataLoader(val_dataset, batch_size=BATCH_SIZE)\n",
    "test_loader = DataLoader(test_dataset, batch_size=BATCH_SIZE)\n",
    "\n",
    "print(f\"DataLoaders created! Training batches: {len(train_loader)}\")"
   ]
  },
  {
   "cell_type": "code",
   "execution_count": 41,
   "id": "9c15782b",
   "metadata": {},
   "outputs": [
    {
     "name": "stdout",
     "output_type": "stream",
     "text": [
      "SequenceTaggerLSTM model created and moved to cuda!\n",
      "SequenceTaggerLSTM(\n",
      "  (embedding): Embedding(9187, 100, padding_idx=0)\n",
      "  (lstm): LSTM(100, 128, batch_first=True, bidirectional=True)\n",
      "  (dropout): Dropout(p=0.3, inplace=False)\n",
      "  (fc): Linear(in_features=256, out_features=9, bias=True)\n",
      ")\n",
      "The model has 1,156,533 trainable parameters\n"
     ]
    }
   ],
   "source": [
    "class SequenceTaggerLSTM(nn.Module):\n",
    "    def __init__(self, vocab_size_words, embedding_dim, hidden_dim, output_dim_tags, \n",
    "                 n_layers=1, bidirectional=True, dropout=0.5, pad_idx_words=0):\n",
    "        super().__init__()\n",
    "        \n",
    "        self.embedding = nn.Embedding(vocab_size_words, embedding_dim, padding_idx=pad_idx_words)\n",
    "        \n",
    "        self.lstm = nn.LSTM(embedding_dim, \n",
    "                            hidden_dim, \n",
    "                            num_layers=n_layers, \n",
    "                            bidirectional=bidirectional,\n",
    "                            dropout=dropout if n_layers > 1 else 0,\n",
    "                            batch_first=True)\n",
    "        \n",
    "        self.dropout = nn.Dropout(dropout)\n",
    "        \n",
    "        fc_input_dim = hidden_dim * 2 if bidirectional else hidden_dim\n",
    "        self.fc = nn.Linear(fc_input_dim, output_dim_tags)\n",
    "        \n",
    "    def forward(self, text_seq):\n",
    "        # text_seq shape: [batch_size, seq_len]\n",
    "        embedded = self.dropout(self.embedding(text_seq)) # Apply dropout to embeddings\n",
    "        # embedded shape: [batch_size, seq_len, embedding_dim]\n",
    "        \n",
    "        lstm_out, (hidden, cell) = self.lstm(embedded)\n",
    "        # lstm_out shape: [batch_size, seq_len, hidden_dim * num_directions]\n",
    "        \n",
    "        lstm_out_dropout = self.dropout(lstm_out)\n",
    "        \n",
    "        predictions = self.fc(lstm_out_dropout)\n",
    "        # predictions shape: [batch_size, seq_len, output_dim_tags]\n",
    "        \n",
    "        return predictions\n",
    "\n",
    "# Model Hyperparameters\n",
    "EMBEDDING_DIM = 100\n",
    "HIDDEN_DIM = 128 # Can be tuned\n",
    "N_LAYERS = 1 # Can be tuned\n",
    "BIDIRECTIONAL = True\n",
    "DROPOUT = 0.3 # Can be tuned\n",
    "\n",
    "model = SequenceTaggerLSTM(\n",
    "    vocab_size_words=vocab_size,\n",
    "    embedding_dim=EMBEDDING_DIM,\n",
    "    hidden_dim=HIDDEN_DIM,\n",
    "    output_dim_tags=output_dim_many_to_many,\n",
    "    n_layers=N_LAYERS,\n",
    "    bidirectional=BIDIRECTIONAL,\n",
    "    dropout=DROPOUT,\n",
    "    pad_idx_words=PAD_IDX_WORD\n",
    ")\n",
    "\n",
    "model = model.to(device)\n",
    "print(f\"SequenceTaggerLSTM model created and moved to {device}!\")\n",
    "print(model)\n",
    "\n",
    "def count_parameters(model):\n",
    "    return sum(p.numel() for p in model.parameters() if p.requires_grad)\n",
    "print(f'The model has {count_parameters(model):,} trainable parameters')"
   ]
  },
  {
   "cell_type": "code",
   "execution_count": 42,
   "id": "64ef007f",
   "metadata": {},
   "outputs": [
    {
     "name": "stdout",
     "output_type": "stream",
     "text": [
      "Loss function (CrossEntropyLoss with ignore_index) and optimizer defined!\n"
     ]
    }
   ],
   "source": [
    "# Optimizer\n",
    "optimizer = optim.Adam(model.parameters())\n",
    "\n",
    "# Loss Function: CrossEntropyLoss, ignoring the PAD_TAG_IDX in labels\n",
    "criterion = nn.CrossEntropyLoss(ignore_index=PAD_TAG_IDX) # PAD_TAG_IDX is 0 ('O')\n",
    "\n",
    "criterion = criterion.to(device)\n",
    "print(\"Loss function (CrossEntropyLoss with ignore_index) and optimizer defined!\")"
   ]
  },
  {
   "cell_type": "code",
   "execution_count": 43,
   "id": "31f2dc4f",
   "metadata": {},
   "outputs": [],
   "source": [
    "def train_epoch(model, iterator, optimizer, criterion, pad_tag_idx):\n",
    "    model.train()\n",
    "    epoch_loss = 0\n",
    "    total_correct_preds = 0\n",
    "    total_preds_count = 0\n",
    "    \n",
    "    for batch in tqdm(iterator, desc=\"Training\", leave=False):\n",
    "        tokens, tags = batch\n",
    "        tokens = tokens.to(device)\n",
    "        tags = tags.to(device) # tags shape: [batch_size, seq_len]\n",
    "        \n",
    "        optimizer.zero_grad()\n",
    "        \n",
    "        predictions = model(tokens)\n",
    "        # predictions shape: [batch_size, seq_len, output_dim_tags]\n",
    "        \n",
    "        # Reshape for CrossEntropyLoss:\n",
    "        # Input: (N, C) where C = num_classes. Target: (N)\n",
    "        # predictions_reshaped: [batch_size * seq_len, output_dim_tags]\n",
    "        # tags_reshaped: [batch_size * seq_len]\n",
    "        predictions_reshaped = predictions.view(-1, predictions.shape[-1])\n",
    "        tags_reshaped = tags.view(-1)\n",
    "        \n",
    "        loss = criterion(predictions_reshaped, tags_reshaped)\n",
    "        \n",
    "        # Accuracy calculation (ignoring PAD_TAG_IDX)\n",
    "        predicted_classes = torch.argmax(predictions, dim=2) # [batch_size, seq_len]\n",
    "        \n",
    "        non_pad_mask = (tags != pad_tag_idx)\n",
    "        correct_preds = (predicted_classes == tags) & non_pad_mask\n",
    "        \n",
    "        total_correct_preds += correct_preds.sum().item()\n",
    "        total_preds_count += non_pad_mask.sum().item()\n",
    "        \n",
    "        loss.backward()\n",
    "        optimizer.step()\n",
    "        epoch_loss += loss.item()\n",
    "        \n",
    "    avg_loss = epoch_loss / len(iterator)\n",
    "    avg_acc = total_correct_preds / total_preds_count if total_preds_count > 0 else 0\n",
    "    return avg_loss, avg_acc"
   ]
  },
  {
   "cell_type": "code",
   "execution_count": 44,
   "id": "cbddf0a5",
   "metadata": {},
   "outputs": [],
   "source": [
    "def evaluate_epoch(model, iterator, criterion, pad_tag_idx):\n",
    "    model.eval()\n",
    "    epoch_loss = 0\n",
    "    total_correct_preds = 0\n",
    "    total_preds_count = 0\n",
    "    \n",
    "    with torch.no_grad():\n",
    "        for batch in tqdm(iterator, desc=\"Evaluating\", leave=False):\n",
    "            tokens, tags = batch\n",
    "            tokens = tokens.to(device)\n",
    "            tags = tags.to(device)\n",
    "            \n",
    "            predictions = model(tokens)\n",
    "            \n",
    "            predictions_reshaped = predictions.view(-1, predictions.shape[-1])\n",
    "            tags_reshaped = tags.view(-1)\n",
    "            \n",
    "            loss = criterion(predictions_reshaped, tags_reshaped)\n",
    "            \n",
    "            predicted_classes = torch.argmax(predictions, dim=2)\n",
    "            non_pad_mask = (tags != pad_tag_idx)\n",
    "            correct_preds = (predicted_classes == tags) & non_pad_mask\n",
    "            \n",
    "            total_correct_preds += correct_preds.sum().item()\n",
    "            total_preds_count += non_pad_mask.sum().item()\n",
    "            epoch_loss += loss.item()\n",
    "            \n",
    "    avg_loss = epoch_loss / len(iterator)\n",
    "    avg_acc = total_correct_preds / total_preds_count if total_preds_count > 0 else 0\n",
    "    return avg_loss, avg_acc"
   ]
  },
  {
   "cell_type": "code",
   "execution_count": 45,
   "id": "c05864d1",
   "metadata": {},
   "outputs": [
    {
     "name": "stdout",
     "output_type": "stream",
     "text": [
      "Dataset loaded! Total training examples: 25000\n",
      "Sample review (text): I rented I AM CURIOUS-YELLOW from my video store because of all the controversy that surrounded it w...\n",
      "Sample label (0=negative, 1=positive): 0\n"
     ]
    }
   ],
   "source": [
    "from datasets import load_dataset\n",
    "\n",
    "# Download the dataset\n",
    "dataset = load_dataset(\"imdb\")\n",
    "\n",
    "# Get train and test data\n",
    "train_data = dataset[\"train\"]\n",
    "test_data = dataset[\"test\"]\n",
    "\n",
    "# Display sample data\n",
    "print(f\"Dataset loaded! Total training examples: {len(train_data)}\")\n",
    "print(f\"Sample review (text): {train_data[0]['text'][:100]}...\")\n",
    "print(f\"Sample label (0=negative, 1=positive): {train_data[0]['label']}\")\n"
   ]
  },
  {
   "cell_type": "code",
   "execution_count": 49,
   "id": "3a08eca9",
   "metadata": {},
   "outputs": [
    {
     "name": "stdout",
     "output_type": "stream",
     "text": [
      "\n",
      "Epoch 1/20\n",
      "--------------------\n"
     ]
    },
    {
     "data": {
      "application/vnd.jupyter.widget-view+json": {
       "model_id": "76a0edd9c83d45df91c39c8997c9a648",
       "version_major": 2,
       "version_minor": 0
      },
      "text/plain": [
       "Training:   0%|          | 0/66 [00:00<?, ?it/s]"
      ]
     },
     "metadata": {},
     "output_type": "display_data"
    },
    {
     "data": {
      "application/vnd.jupyter.widget-view+json": {
       "model_id": "7e541ebc2c854aacb40acb99ed04e52a",
       "version_major": 2,
       "version_minor": 0
      },
      "text/plain": [
       "Evaluating:   0%|          | 0/10 [00:00<?, ?it/s]"
      ]
     },
     "metadata": {},
     "output_type": "display_data"
    },
    {
     "name": "stdout",
     "output_type": "stream",
     "text": [
      "\tSAVED best model (epoch 1)\n",
      "\tTrain Loss: 0.149 | Train Acc: 95.17%\n",
      "\t Val. Loss: 1.072 |  Val. Acc: 76.65%\n",
      "\n",
      "Epoch 2/20\n",
      "--------------------\n"
     ]
    },
    {
     "data": {
      "application/vnd.jupyter.widget-view+json": {
       "model_id": "d71aba67cb3f4dc9bf65797d8187b4f6",
       "version_major": 2,
       "version_minor": 0
      },
      "text/plain": [
       "Training:   0%|          | 0/66 [00:00<?, ?it/s]"
      ]
     },
     "metadata": {},
     "output_type": "display_data"
    },
    {
     "data": {
      "application/vnd.jupyter.widget-view+json": {
       "model_id": "1c381998ae04417aa582a964f82907ec",
       "version_major": 2,
       "version_minor": 0
      },
      "text/plain": [
       "Evaluating:   0%|          | 0/10 [00:00<?, ?it/s]"
      ]
     },
     "metadata": {},
     "output_type": "display_data"
    },
    {
     "name": "stdout",
     "output_type": "stream",
     "text": [
      "\tSAVED best model (epoch 2)\n",
      "\tTrain Loss: 0.138 | Train Acc: 95.85%\n",
      "\t Val. Loss: 1.011 |  Val. Acc: 76.32%\n",
      "\n",
      "Epoch 3/20\n",
      "--------------------\n"
     ]
    },
    {
     "data": {
      "application/vnd.jupyter.widget-view+json": {
       "model_id": "0f3a13c457ff4ef583181fced3a31535",
       "version_major": 2,
       "version_minor": 0
      },
      "text/plain": [
       "Training:   0%|          | 0/66 [00:00<?, ?it/s]"
      ]
     },
     "metadata": {},
     "output_type": "display_data"
    },
    {
     "data": {
      "application/vnd.jupyter.widget-view+json": {
       "model_id": "7e995b8684224ee18015d0d0ab16699e",
       "version_major": 2,
       "version_minor": 0
      },
      "text/plain": [
       "Evaluating:   0%|          | 0/10 [00:00<?, ?it/s]"
      ]
     },
     "metadata": {},
     "output_type": "display_data"
    },
    {
     "name": "stdout",
     "output_type": "stream",
     "text": [
      "\tTrain Loss: 0.128 | Train Acc: 96.02%\n",
      "\t Val. Loss: 1.045 |  Val. Acc: 75.44%\n",
      "\n",
      "Epoch 4/20\n",
      "--------------------\n"
     ]
    },
    {
     "data": {
      "application/vnd.jupyter.widget-view+json": {
       "model_id": "7590e0b8e4224a2c8c9cbf58470af35b",
       "version_major": 2,
       "version_minor": 0
      },
      "text/plain": [
       "Training:   0%|          | 0/66 [00:00<?, ?it/s]"
      ]
     },
     "metadata": {},
     "output_type": "display_data"
    },
    {
     "data": {
      "application/vnd.jupyter.widget-view+json": {
       "model_id": "80580da890654b508ee81e4dbec65912",
       "version_major": 2,
       "version_minor": 0
      },
      "text/plain": [
       "Evaluating:   0%|          | 0/10 [00:00<?, ?it/s]"
      ]
     },
     "metadata": {},
     "output_type": "display_data"
    },
    {
     "name": "stdout",
     "output_type": "stream",
     "text": [
      "\tTrain Loss: 0.110 | Train Acc: 96.56%\n",
      "\t Val. Loss: 1.017 |  Val. Acc: 77.42%\n",
      "\n",
      "Epoch 5/20\n",
      "--------------------\n"
     ]
    },
    {
     "data": {
      "application/vnd.jupyter.widget-view+json": {
       "model_id": "94cbcc5a08bb42fbab82ef5c8015a179",
       "version_major": 2,
       "version_minor": 0
      },
      "text/plain": [
       "Training:   0%|          | 0/66 [00:00<?, ?it/s]"
      ]
     },
     "metadata": {},
     "output_type": "display_data"
    },
    {
     "data": {
      "application/vnd.jupyter.widget-view+json": {
       "model_id": "0d4eb0c102d14308beada00cacc9514b",
       "version_major": 2,
       "version_minor": 0
      },
      "text/plain": [
       "Evaluating:   0%|          | 0/10 [00:00<?, ?it/s]"
      ]
     },
     "metadata": {},
     "output_type": "display_data"
    },
    {
     "name": "stdout",
     "output_type": "stream",
     "text": [
      "\tTrain Loss: 0.097 | Train Acc: 97.12%\n",
      "\t Val. Loss: 1.206 |  Val. Acc: 74.78%\n",
      "\n",
      "Epoch 6/20\n",
      "--------------------\n"
     ]
    },
    {
     "data": {
      "application/vnd.jupyter.widget-view+json": {
       "model_id": "9c35899dc24c40f19db86dc71f858c3c",
       "version_major": 2,
       "version_minor": 0
      },
      "text/plain": [
       "Training:   0%|          | 0/66 [00:00<?, ?it/s]"
      ]
     },
     "metadata": {},
     "output_type": "display_data"
    },
    {
     "data": {
      "application/vnd.jupyter.widget-view+json": {
       "model_id": "f2be702f41d446a289c2d9c35d650d28",
       "version_major": 2,
       "version_minor": 0
      },
      "text/plain": [
       "Evaluating:   0%|          | 0/10 [00:00<?, ?it/s]"
      ]
     },
     "metadata": {},
     "output_type": "display_data"
    },
    {
     "name": "stdout",
     "output_type": "stream",
     "text": [
      "\tTrain Loss: 0.088 | Train Acc: 97.48%\n",
      "\t Val. Loss: 1.101 |  Val. Acc: 75.99%\n",
      "\n",
      "Epoch 7/20\n",
      "--------------------\n"
     ]
    },
    {
     "data": {
      "application/vnd.jupyter.widget-view+json": {
       "model_id": "cfe5bcc93b364ca791781b5e76b9d7f1",
       "version_major": 2,
       "version_minor": 0
      },
      "text/plain": [
       "Training:   0%|          | 0/66 [00:00<?, ?it/s]"
      ]
     },
     "metadata": {},
     "output_type": "display_data"
    },
    {
     "data": {
      "application/vnd.jupyter.widget-view+json": {
       "model_id": "41a686e3bf8f4498a4bbb534498333d1",
       "version_major": 2,
       "version_minor": 0
      },
      "text/plain": [
       "Evaluating:   0%|          | 0/10 [00:00<?, ?it/s]"
      ]
     },
     "metadata": {},
     "output_type": "display_data"
    },
    {
     "name": "stdout",
     "output_type": "stream",
     "text": [
      "\tTrain Loss: 0.079 | Train Acc: 97.80%\n",
      "\t Val. Loss: 1.119 |  Val. Acc: 75.66%\n",
      "\n",
      "Epoch 8/20\n",
      "--------------------\n"
     ]
    },
    {
     "data": {
      "application/vnd.jupyter.widget-view+json": {
       "model_id": "4d97ef683b564af396e7fa5c8e6fd720",
       "version_major": 2,
       "version_minor": 0
      },
      "text/plain": [
       "Training:   0%|          | 0/66 [00:00<?, ?it/s]"
      ]
     },
     "metadata": {},
     "output_type": "display_data"
    },
    {
     "data": {
      "application/vnd.jupyter.widget-view+json": {
       "model_id": "a8275c830e294a84925cd352d06e0682",
       "version_major": 2,
       "version_minor": 0
      },
      "text/plain": [
       "Evaluating:   0%|          | 0/10 [00:00<?, ?it/s]"
      ]
     },
     "metadata": {},
     "output_type": "display_data"
    },
    {
     "name": "stdout",
     "output_type": "stream",
     "text": [
      "\tTrain Loss: 0.073 | Train Acc: 98.13%\n",
      "\t Val. Loss: 1.106 |  Val. Acc: 77.42%\n",
      "\n",
      "Epoch 9/20\n",
      "--------------------\n"
     ]
    },
    {
     "data": {
      "application/vnd.jupyter.widget-view+json": {
       "model_id": "ee820cdddc974c988a2a35e7cd15b182",
       "version_major": 2,
       "version_minor": 0
      },
      "text/plain": [
       "Training:   0%|          | 0/66 [00:00<?, ?it/s]"
      ]
     },
     "metadata": {},
     "output_type": "display_data"
    },
    {
     "data": {
      "application/vnd.jupyter.widget-view+json": {
       "model_id": "f4c59167401a44988079e0d1c2694c31",
       "version_major": 2,
       "version_minor": 0
      },
      "text/plain": [
       "Evaluating:   0%|          | 0/10 [00:00<?, ?it/s]"
      ]
     },
     "metadata": {},
     "output_type": "display_data"
    },
    {
     "name": "stdout",
     "output_type": "stream",
     "text": [
      "\tTrain Loss: 0.070 | Train Acc: 97.96%\n",
      "\t Val. Loss: 1.170 |  Val. Acc: 76.43%\n",
      "\n",
      "Epoch 10/20\n",
      "--------------------\n"
     ]
    },
    {
     "data": {
      "application/vnd.jupyter.widget-view+json": {
       "model_id": "d7be495abaf74535be986bfdb78e044f",
       "version_major": 2,
       "version_minor": 0
      },
      "text/plain": [
       "Training:   0%|          | 0/66 [00:00<?, ?it/s]"
      ]
     },
     "metadata": {},
     "output_type": "display_data"
    },
    {
     "data": {
      "application/vnd.jupyter.widget-view+json": {
       "model_id": "379115acca06498e854a0d7c0ea1953e",
       "version_major": 2,
       "version_minor": 0
      },
      "text/plain": [
       "Evaluating:   0%|          | 0/10 [00:00<?, ?it/s]"
      ]
     },
     "metadata": {},
     "output_type": "display_data"
    },
    {
     "name": "stdout",
     "output_type": "stream",
     "text": [
      "\tTrain Loss: 0.059 | Train Acc: 98.27%\n",
      "\t Val. Loss: 1.141 |  Val. Acc: 76.65%\n",
      "\n",
      "Epoch 11/20\n",
      "--------------------\n"
     ]
    },
    {
     "data": {
      "application/vnd.jupyter.widget-view+json": {
       "model_id": "4ee0b489e3074f60b67213ae29b78c87",
       "version_major": 2,
       "version_minor": 0
      },
      "text/plain": [
       "Training:   0%|          | 0/66 [00:00<?, ?it/s]"
      ]
     },
     "metadata": {},
     "output_type": "display_data"
    },
    {
     "data": {
      "application/vnd.jupyter.widget-view+json": {
       "model_id": "7b8307b963a54d018c4604a7a59d0a49",
       "version_major": 2,
       "version_minor": 0
      },
      "text/plain": [
       "Evaluating:   0%|          | 0/10 [00:00<?, ?it/s]"
      ]
     },
     "metadata": {},
     "output_type": "display_data"
    },
    {
     "name": "stdout",
     "output_type": "stream",
     "text": [
      "\tTrain Loss: 0.058 | Train Acc: 98.36%\n",
      "\t Val. Loss: 1.154 |  Val. Acc: 78.30%\n",
      "\n",
      "Epoch 12/20\n",
      "--------------------\n"
     ]
    },
    {
     "data": {
      "application/vnd.jupyter.widget-view+json": {
       "model_id": "5e2f1459ca334e5aafd7111fa904fd9f",
       "version_major": 2,
       "version_minor": 0
      },
      "text/plain": [
       "Training:   0%|          | 0/66 [00:00<?, ?it/s]"
      ]
     },
     "metadata": {},
     "output_type": "display_data"
    },
    {
     "data": {
      "application/vnd.jupyter.widget-view+json": {
       "model_id": "699a26f4221d49b984f496e5fdf03f10",
       "version_major": 2,
       "version_minor": 0
      },
      "text/plain": [
       "Evaluating:   0%|          | 0/10 [00:00<?, ?it/s]"
      ]
     },
     "metadata": {},
     "output_type": "display_data"
    },
    {
     "name": "stdout",
     "output_type": "stream",
     "text": [
      "\tTrain Loss: 0.046 | Train Acc: 98.75%\n",
      "\t Val. Loss: 1.078 |  Val. Acc: 78.30%\n",
      "\n",
      "Epoch 13/20\n",
      "--------------------\n"
     ]
    },
    {
     "data": {
      "application/vnd.jupyter.widget-view+json": {
       "model_id": "bb664bd7da904bf8ad6991bbc4479191",
       "version_major": 2,
       "version_minor": 0
      },
      "text/plain": [
       "Training:   0%|          | 0/66 [00:00<?, ?it/s]"
      ]
     },
     "metadata": {},
     "output_type": "display_data"
    },
    {
     "data": {
      "application/vnd.jupyter.widget-view+json": {
       "model_id": "a574bd0ed0d2415293b6114e65cfb764",
       "version_major": 2,
       "version_minor": 0
      },
      "text/plain": [
       "Evaluating:   0%|          | 0/10 [00:00<?, ?it/s]"
      ]
     },
     "metadata": {},
     "output_type": "display_data"
    },
    {
     "name": "stdout",
     "output_type": "stream",
     "text": [
      "\tTrain Loss: 0.046 | Train Acc: 98.77%\n",
      "\t Val. Loss: 1.130 |  Val. Acc: 78.08%\n",
      "\n",
      "Epoch 14/20\n",
      "--------------------\n"
     ]
    },
    {
     "data": {
      "application/vnd.jupyter.widget-view+json": {
       "model_id": "2d371a1b97114b94b4ae01f7951ea0b0",
       "version_major": 2,
       "version_minor": 0
      },
      "text/plain": [
       "Training:   0%|          | 0/66 [00:00<?, ?it/s]"
      ]
     },
     "metadata": {},
     "output_type": "display_data"
    },
    {
     "data": {
      "application/vnd.jupyter.widget-view+json": {
       "model_id": "6d17360a4b5d44a6886abe5e6d2cc0e2",
       "version_major": 2,
       "version_minor": 0
      },
      "text/plain": [
       "Evaluating:   0%|          | 0/10 [00:00<?, ?it/s]"
      ]
     },
     "metadata": {},
     "output_type": "display_data"
    },
    {
     "name": "stdout",
     "output_type": "stream",
     "text": [
      "\tTrain Loss: 0.047 | Train Acc: 98.83%\n",
      "\t Val. Loss: 1.085 |  Val. Acc: 78.30%\n",
      "\n",
      "Epoch 15/20\n",
      "--------------------\n"
     ]
    },
    {
     "data": {
      "application/vnd.jupyter.widget-view+json": {
       "model_id": "88b6aebabd00493781da41b0fecc0322",
       "version_major": 2,
       "version_minor": 0
      },
      "text/plain": [
       "Training:   0%|          | 0/66 [00:00<?, ?it/s]"
      ]
     },
     "metadata": {},
     "output_type": "display_data"
    },
    {
     "data": {
      "application/vnd.jupyter.widget-view+json": {
       "model_id": "6bdf88efea344a5c9f252e5be364a004",
       "version_major": 2,
       "version_minor": 0
      },
      "text/plain": [
       "Evaluating:   0%|          | 0/10 [00:00<?, ?it/s]"
      ]
     },
     "metadata": {},
     "output_type": "display_data"
    },
    {
     "name": "stdout",
     "output_type": "stream",
     "text": [
      "\tTrain Loss: 0.036 | Train Acc: 99.06%\n",
      "\t Val. Loss: 1.181 |  Val. Acc: 78.08%\n",
      "\n",
      "Epoch 16/20\n",
      "--------------------\n"
     ]
    },
    {
     "data": {
      "application/vnd.jupyter.widget-view+json": {
       "model_id": "860e97ea16e44717932cf31f116f1715",
       "version_major": 2,
       "version_minor": 0
      },
      "text/plain": [
       "Training:   0%|          | 0/66 [00:00<?, ?it/s]"
      ]
     },
     "metadata": {},
     "output_type": "display_data"
    },
    {
     "data": {
      "application/vnd.jupyter.widget-view+json": {
       "model_id": "b2df090799b34c7c9537fb7bbd44deaf",
       "version_major": 2,
       "version_minor": 0
      },
      "text/plain": [
       "Evaluating:   0%|          | 0/10 [00:00<?, ?it/s]"
      ]
     },
     "metadata": {},
     "output_type": "display_data"
    },
    {
     "name": "stdout",
     "output_type": "stream",
     "text": [
      "\tTrain Loss: 0.035 | Train Acc: 99.07%\n",
      "\t Val. Loss: 1.138 |  Val. Acc: 77.75%\n",
      "\n",
      "Epoch 17/20\n",
      "--------------------\n"
     ]
    },
    {
     "data": {
      "application/vnd.jupyter.widget-view+json": {
       "model_id": "ea87174c36bd47cba3e819b106ecb39d",
       "version_major": 2,
       "version_minor": 0
      },
      "text/plain": [
       "Training:   0%|          | 0/66 [00:00<?, ?it/s]"
      ]
     },
     "metadata": {},
     "output_type": "display_data"
    },
    {
     "data": {
      "application/vnd.jupyter.widget-view+json": {
       "model_id": "345d89af3f90480a8b66dc4f66ec3588",
       "version_major": 2,
       "version_minor": 0
      },
      "text/plain": [
       "Evaluating:   0%|          | 0/10 [00:00<?, ?it/s]"
      ]
     },
     "metadata": {},
     "output_type": "display_data"
    },
    {
     "name": "stdout",
     "output_type": "stream",
     "text": [
      "\tTrain Loss: 0.035 | Train Acc: 99.09%\n",
      "\t Val. Loss: 1.079 |  Val. Acc: 77.86%\n",
      "\n",
      "Epoch 18/20\n",
      "--------------------\n"
     ]
    },
    {
     "data": {
      "application/vnd.jupyter.widget-view+json": {
       "model_id": "5aab6258b03947238b50cb3afac64868",
       "version_major": 2,
       "version_minor": 0
      },
      "text/plain": [
       "Training:   0%|          | 0/66 [00:00<?, ?it/s]"
      ]
     },
     "metadata": {},
     "output_type": "display_data"
    },
    {
     "data": {
      "application/vnd.jupyter.widget-view+json": {
       "model_id": "9b6d1f593c4b4e97b1f2ba307b0c7766",
       "version_major": 2,
       "version_minor": 0
      },
      "text/plain": [
       "Evaluating:   0%|          | 0/10 [00:00<?, ?it/s]"
      ]
     },
     "metadata": {},
     "output_type": "display_data"
    },
    {
     "name": "stdout",
     "output_type": "stream",
     "text": [
      "\tTrain Loss: 0.033 | Train Acc: 99.14%\n",
      "\t Val. Loss: 1.161 |  Val. Acc: 77.53%\n",
      "\n",
      "Epoch 19/20\n",
      "--------------------\n"
     ]
    },
    {
     "data": {
      "application/vnd.jupyter.widget-view+json": {
       "model_id": "62947f54800e4418ba40e2544193a207",
       "version_major": 2,
       "version_minor": 0
      },
      "text/plain": [
       "Training:   0%|          | 0/66 [00:00<?, ?it/s]"
      ]
     },
     "metadata": {},
     "output_type": "display_data"
    },
    {
     "data": {
      "application/vnd.jupyter.widget-view+json": {
       "model_id": "fb3a612e54574b82b649d3062d2192be",
       "version_major": 2,
       "version_minor": 0
      },
      "text/plain": [
       "Evaluating:   0%|          | 0/10 [00:00<?, ?it/s]"
      ]
     },
     "metadata": {},
     "output_type": "display_data"
    },
    {
     "name": "stdout",
     "output_type": "stream",
     "text": [
      "\tTrain Loss: 0.031 | Train Acc: 99.20%\n",
      "\t Val. Loss: 1.156 |  Val. Acc: 78.08%\n",
      "\n",
      "Epoch 20/20\n",
      "--------------------\n"
     ]
    },
    {
     "data": {
      "application/vnd.jupyter.widget-view+json": {
       "model_id": "304a645ed1044bcc84a6fa75605b8034",
       "version_major": 2,
       "version_minor": 0
      },
      "text/plain": [
       "Training:   0%|          | 0/66 [00:00<?, ?it/s]"
      ]
     },
     "metadata": {},
     "output_type": "display_data"
    },
    {
     "data": {
      "application/vnd.jupyter.widget-view+json": {
       "model_id": "aae78f74cb5c4f0f90b19e2d8642868f",
       "version_major": 2,
       "version_minor": 0
      },
      "text/plain": [
       "Evaluating:   0%|          | 0/10 [00:00<?, ?it/s]"
      ]
     },
     "metadata": {},
     "output_type": "display_data"
    },
    {
     "name": "stdout",
     "output_type": "stream",
     "text": [
      "\tTrain Loss: 0.031 | Train Acc: 99.14%\n",
      "\t Val. Loss: 1.136 |  Val. Acc: 79.41%\n",
      "\n",
      "Training complete!\n"
     ]
    }
   ],
   "source": [
    "N_EPOCHS = 20 # Adjust as needed\n",
    "best_valid_loss = float('inf')\n",
    "\n",
    "train_losses = []\n",
    "train_accs = []\n",
    "val_losses = []\n",
    "val_accs = []\n",
    "\n",
    "for epoch in range(N_EPOCHS):\n",
    "    print(f\"\\nEpoch {epoch+1}/{N_EPOCHS}\")\n",
    "    print(\"-\" * 20)\n",
    "    \n",
    "    train_loss, train_acc = train_epoch(model, train_loader, optimizer, criterion, PAD_TAG_IDX)\n",
    "    valid_loss, valid_acc = evaluate_epoch(model, val_loader, criterion, PAD_TAG_IDX)\n",
    "    \n",
    "    train_losses.append(train_loss)\n",
    "    train_accs.append(train_acc)\n",
    "    val_losses.append(valid_loss)\n",
    "    val_accs.append(valid_acc)\n",
    "    \n",
    "    if valid_loss < best_valid_loss:\n",
    "        best_valid_loss = valid_loss\n",
    "        torch.save(model.state_dict(), 'ner_lstm_model.pt')\n",
    "        print(f\"\\tSAVED best model (epoch {epoch+1})\")\n",
    "\n",
    "    print(f\"\\tTrain Loss: {train_loss:.3f} | Train Acc: {train_acc*100:.2f}%\")\n",
    "    print(f\"\\t Val. Loss: {valid_loss:.3f} |  Val. Acc: {valid_acc*100:.2f}%\")\n",
    "\n",
    "print(\"\\nTraining complete!\")"
   ]
  },
  {
   "cell_type": "code",
   "execution_count": 50,
   "id": "9e196959",
   "metadata": {},
   "outputs": [
    {
     "data": {
      "image/png": "[encoded data removed]",
      "text/plain": [
       "<Figure size 1200x500 with 2 Axes>"
      ]
     },
     "metadata": {},
     "output_type": "display_data"
    }
   ],
   "source": [
    "plt.figure(figsize=(12, 5))\n",
    "\n",
    "plt.subplot(1, 2, 1)\n",
    "plt.plot(train_losses, label='Train Loss')\n",
    "plt.plot(val_losses, label='Val Loss')\n",
    "plt.xlabel('Epoch')\n",
    "plt.ylabel('Loss')\n",
    "plt.title('Training and Validation Loss (NER)')\n",
    "plt.legend()\n",
    "\n",
    "plt.subplot(1, 2, 2)\n",
    "plt.plot(train_accs, label='Train Acc')\n",
    "plt.plot(val_accs, label='Val Acc')\n",
    "plt.xlabel('Epoch')\n",
    "plt.ylabel('Accuracy (per token)')\n",
    "plt.title('Training and Validation Accuracy (NER)')\n",
    "plt.legend()\n",
    "\n",
    "plt.tight_layout()\n",
    "plt.show()"
   ]
  },
  {
   "cell_type": "markdown",
   "id": "68a449c4",
   "metadata": {},
   "source": [
    "Task :\n",
    "1. train a 1/3 layered network and compare the results\n",
    "2. change the task from many to one to many to many tasK"
   ]
  },
  {
   "cell_type": "markdown",
   "id": "ba72258c",
   "metadata": {},
   "source": []
  }
 ],
 "metadata": {
  "kernelspec": {
   "display_name": "Python 3",
   "language": "python",
   "name": "python3"
  },
  "language_info": {
   "codemirror_mode": {
    "name": "ipython",
    "version": 3
   },
   "file_extension": ".py",
   "mimetype": "text/x-python",
   "name": "python",
   "nbconvert_exporter": "python",
   "pygments_lexer": "ipython3",
   "version": "3.12.7"
  }
 },
 "nbformat": 4,
 "nbformat_minor": 5
}
